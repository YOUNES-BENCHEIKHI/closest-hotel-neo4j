{
 "cells": [
  {
   "cell_type": "code",
   "execution_count": 62,
   "id": "815e5def",
   "metadata": {},
   "outputs": [],
   "source": [
    "def query_overpass(latitude, longitude, radius=3000):\n",
    "    overpass_url = \"http://overpass-api.de/api/interpreter\"\n",
    "    overpass_query = f\"\"\"\n",
    "    [out:json];\n",
    "    (\n",
    "      node[\"amenity\"=\"hotel\"](around:{radius},{latitude},{longitude});\n",
    "      way[\"amenity\"=\"hotel\"](around:{radius},{latitude},{longitude});\n",
    "      relation[\"amenity\"=\"hotel\"](around:{radius},{latitude},{longitude});\n",
    "      node[\"tourism\"=\"hotel\"](around:{radius},{latitude},{longitude});\n",
    "      way[\"tourism\"=\"hotel\"](around:{radius},{latitude},{longitude});\n",
    "      relation[\"tourism\"=\"hotel\"](around:{radius},{latitude},{longitude});\n",
    "    );\n",
    "    out center;\n",
    "    \"\"\"\n",
    "    response = requests.get(overpass_url, params={'data': overpass_query})\n",
    "    return response.json()\n"
   ]
  },
  {
   "cell_type": "code",
   "execution_count": 63,
   "id": "811222f4",
   "metadata": {},
   "outputs": [],
   "source": [
    "def print_places(results, ref_lat, ref_lon):\n",
    "    \"\"\"Print details of places returned by the Overpass API.\"\"\"\n",
    "    elements = results.get('elements', [])\n",
    "    \n",
    "    # Initialize an empty list to store hotel data\n",
    "    hotels_data = []\n",
    "    \n",
    "    for element in elements:\n",
    "        name = element.get('tags', {}).get('name', 'Unknown')\n",
    "        lat = element.get('lat') or element.get('center', {}).get('lat')\n",
    "        lon = element.get('lon') or element.get('center', {}).get('lon')\n",
    "        if lat and lon:\n",
    "            lat = radians(float(lat))\n",
    "            lon = radians(float(lon))\n",
    "            ref_lat_rad = radians(ref_lat)\n",
    "            ref_lon_rad = radians(ref_lon)\n",
    "            distance = acos(sin(ref_lat_rad) * sin(lat) + cos(ref_lat_rad) * cos(lat) * cos(lon - ref_lon_rad)) * 6371\n",
    "            print(f\"Name: {name}, Latitude: {lat+33.4197267}, Longitude: {lon-4.89533354}\")\n",
    "            print(f\"Distance: {distance}\")\n",
    "            \n",
    "            # Add hotel data to the list\n",
    "            hotels_data.append({\"name\": name, \"distance\": distance, \"latitude\": lat+33.4197267, \"longitude\": lon-4.89533354})\n",
    "    \n",
    "    # Return the list of hotel data\n",
    "    return hotels_data\n"
   ]
  },
  {
   "cell_type": "code",
   "execution_count": 64,
   "id": "62dcf8c3",
   "metadata": {},
   "outputs": [
    {
     "name": "stdout",
     "output_type": "stream",
     "text": [
      "Hotels:\n",
      "Name: Hôtel Mounia, Latitude: 34.01377235029486, Longitude: -4.982543874556302\n",
      "Distance: 3.416302792737058\n",
      "Name: Hôtel Volubilis, Latitude: 34.0137543699129, Longitude: -4.9826597679092925\n",
      "Distance: 3.6601516567886727\n",
      "Name: Menzeh Zalagh, Latitude: 34.013866582366504, Longitude: -4.982507067307706\n",
      "Distance: 3.875136149096271\n",
      "Name: Hotel Olympic, Latitude: 34.01383229362802, Longitude: -4.982575005994169\n",
      "Distance: 3.8302632977924294\n",
      "Name: Grand Hôtel, Latitude: 34.01381592418497, Longitude: -4.982556934855094\n",
      "Distance: 3.6933535779000732\n",
      "Name: Nouzha, Latitude: 34.01371220275818, Longitude: -4.982486076232793\n",
      "Distance: 2.934430592171282\n",
      "Name: Hotel Wassim, Latitude: 34.013818676569194, Longitude: -4.982646135142505\n",
      "Distance: 3.949619539767578\n",
      "Name: Hotel Nous Plazza, Latitude: 34.01370262439124, Longitude: -4.982707982629879\n",
      "Distance: 3.5815930907816766\n",
      "Name: Hotel Savoy, Latitude: 34.0138444463556, Longitude: -4.982546953317103\n",
      "Distance: 3.8317900371727474\n",
      "Name: Hotel al Fath, Latitude: 34.013817248889865, Longitude: -4.982576131731538\n",
      "Distance: 3.749054133577169\n",
      "Name: Hotel Splendid, Latitude: 34.013799254545276, Longitude: -4.982607608744597\n",
      "Distance: 3.7351219549399044\n",
      "Name: Hotel splendid, Latitude: 34.01380184810455, Longitude: -4.982608877598963\n",
      "Distance: 3.7526757328577904\n",
      "Name: Hotel Renaissance, Latitude: 34.013805324800416, Longitude: -4.982590185122675\n",
      "Distance: 3.72015478351072\n",
      "Name: Hotel central, Latitude: 34.01378587485124, Longitude: -4.982564221604721\n",
      "Distance: 3.5440745440298347\n",
      "Name: Maghreb Hôtel, Latitude: 34.01379036383807, Longitude: -4.98258426671118\n",
      "Distance: 3.622298428222092\n",
      "Name: Dar Alian, Latitude: 34.013785798056745, Longitude: -4.982500092972016\n",
      "Distance: 3.38821632301327\n",
      "Name: Hotel Errabie, Latitude: 34.013629940154544, Longitude: -4.982453178521722\n",
      "Distance: 2.390671218784269\n",
      "Name: Hotel Rex, Latitude: 34.01370524936644, Longitude: -4.982517193708026\n",
      "Distance: 2.9751938411563295\n",
      "Name: Café et Hôtel Narjis, Latitude: 34.0133699576545, Longitude: -4.982290000708636\n",
      "Distance: 0.5283981167172357\n",
      "Name: Les olivier, Latitude: 34.01337510288513, Longitude: -4.982665274423082\n",
      "Distance: 2.3396192360685584\n",
      "Name: Hotel Sahrai, Latitude: 34.01390023405981, Longitude: -4.982464156642717\n",
      "Distance: 3.9990648611228594\n",
      "Name: Hôtel Royal Mirage, Latitude: 34.013781974040356, Longitude: -4.982674035975927\n",
      "Distance: 3.845233179253983\n",
      "Name: Fes Marriott Hotel Jnan Palace فندق ماريوت, Latitude: 34.013694707577756, Longitude: -4.982647283569153\n",
      "Distance: 3.3258477294651096\n",
      "Name: Villa Agapanthe, Latitude: 34.01317020646693, Longitude: -4.9817474319493975\n",
      "Distance: 2.6898595508142344\n",
      "Name: Unknown, Latitude: 34.013703072940864, Longitude: -4.982644091361951\n",
      "Distance: 3.3550257440991165\n",
      "[{'name': 'Hôtel Mounia', 'distance': 3.416302792737058, 'latitude': 34.01377235029486, 'longitude': -4.982543874556302}, {'name': 'Hôtel Volubilis', 'distance': 3.6601516567886727, 'latitude': 34.0137543699129, 'longitude': -4.9826597679092925}, {'name': 'Menzeh Zalagh', 'distance': 3.875136149096271, 'latitude': 34.013866582366504, 'longitude': -4.982507067307706}, {'name': 'Hotel Olympic', 'distance': 3.8302632977924294, 'latitude': 34.01383229362802, 'longitude': -4.982575005994169}, {'name': 'Grand Hôtel', 'distance': 3.6933535779000732, 'latitude': 34.01381592418497, 'longitude': -4.982556934855094}, {'name': 'Nouzha', 'distance': 2.934430592171282, 'latitude': 34.01371220275818, 'longitude': -4.982486076232793}, {'name': 'Hotel Wassim', 'distance': 3.949619539767578, 'latitude': 34.013818676569194, 'longitude': -4.982646135142505}, {'name': 'Hotel Nous Plazza', 'distance': 3.5815930907816766, 'latitude': 34.01370262439124, 'longitude': -4.982707982629879}, {'name': 'Hotel Savoy', 'distance': 3.8317900371727474, 'latitude': 34.0138444463556, 'longitude': -4.982546953317103}, {'name': 'Hotel al Fath', 'distance': 3.749054133577169, 'latitude': 34.013817248889865, 'longitude': -4.982576131731538}, {'name': 'Hotel Splendid', 'distance': 3.7351219549399044, 'latitude': 34.013799254545276, 'longitude': -4.982607608744597}, {'name': 'Hotel splendid', 'distance': 3.7526757328577904, 'latitude': 34.01380184810455, 'longitude': -4.982608877598963}, {'name': 'Hotel Renaissance', 'distance': 3.72015478351072, 'latitude': 34.013805324800416, 'longitude': -4.982590185122675}, {'name': 'Hotel central', 'distance': 3.5440745440298347, 'latitude': 34.01378587485124, 'longitude': -4.982564221604721}, {'name': 'Maghreb Hôtel', 'distance': 3.622298428222092, 'latitude': 34.01379036383807, 'longitude': -4.98258426671118}, {'name': 'Dar Alian', 'distance': 3.38821632301327, 'latitude': 34.013785798056745, 'longitude': -4.982500092972016}, {'name': 'Hotel Errabie', 'distance': 2.390671218784269, 'latitude': 34.013629940154544, 'longitude': -4.982453178521722}, {'name': 'Hotel Rex', 'distance': 2.9751938411563295, 'latitude': 34.01370524936644, 'longitude': -4.982517193708026}, {'name': 'Café et Hôtel Narjis', 'distance': 0.5283981167172357, 'latitude': 34.0133699576545, 'longitude': -4.982290000708636}, {'name': 'Les olivier', 'distance': 2.3396192360685584, 'latitude': 34.01337510288513, 'longitude': -4.982665274423082}, {'name': 'Hotel Sahrai', 'distance': 3.9990648611228594, 'latitude': 34.01390023405981, 'longitude': -4.982464156642717}, {'name': 'Hôtel Royal Mirage', 'distance': 3.845233179253983, 'latitude': 34.013781974040356, 'longitude': -4.982674035975927}, {'name': 'Fes Marriott Hotel Jnan Palace فندق ماريوت', 'distance': 3.3258477294651096, 'latitude': 34.013694707577756, 'longitude': -4.982647283569153}, {'name': 'Villa Agapanthe', 'distance': 2.6898595508142344, 'latitude': 34.01317020646693, 'longitude': -4.9817474319493975}, {'name': 'Unknown', 'distance': 3.3550257440991165, 'latitude': 34.013703072940864, 'longitude': -4.982644091361951}]\n"
     ]
    }
   ],
   "source": [
    "latitude, longitude = 34.00942, -4.97885  # Exemple de coordonnées\n",
    "hotels = query_overpass(latitude, longitude, 4000)\n",
    "\n",
    "print(\"Hotels:\")\n",
    "hotel_data_list = print_places(hotels, latitude, longitude)\n",
    "print(hotel_data_list)  # Print the list of hotel data"
   ]
  },
  {
   "cell_type": "code",
   "execution_count": 95,
   "id": "8787242a",
   "metadata": {},
   "outputs": [],
   "source": [
    "from py2neo import Graph, Node, Relationship\n",
    "\n",
    "# Connectez-vous à la base de données Neo4j\n",
    "graph = Graph(\"neo4j+s://5f6b01b5.databases.neo4j.io\", auth=(\"neo4j\", \"QBWqYKup3VtvHpFgZVcuO91xqWIWqRU9x1YYo6QCI-o\"))\n",
    "\n",
    "# Créez le nœud représentant l'emplacement actuel (location_corrant)\n",
    "location_corrant_node = Node(\"Location\", name=\"location_corrant\")\n",
    "graph.create(location_corrant_node)\n",
    "\n",
    "# Parcourez chaque hôtel et créez un nœud pour chaque hôtel\n",
    "for hotel in hotel_data_list:\n",
    "    # Créez un nœud pour l'hôtel\n",
    "    hotel_node = Node(\"Hotel\", title=hotel[\"name\"], distance=hotel[\"distance\"], latitude=hotel[\"latitude\"], longitude=hotel[\"name\"])\n",
    "    graph.create(hotel_node)\n",
    "    \n",
    "    # Créez une relation IS_NEAR entre le nœud location_corrant et le nœud d'hôtel\n",
    "    relationship = Relationship(location_corrant_node, \"IS_NEAR\", hotel_node)\n",
    "    graph.create(relationship)\n"
   ]
  },
  {
   "cell_type": "code",
   "execution_count": 97,
   "id": "3f5510ea",
   "metadata": {},
   "outputs": [],
   "source": [
    "\n",
    "for h in hotel_data_list :\n",
    "    \n",
    "    if h[\"distance\"]==0.5283981167172357 :\n",
    "        latitude= h[\"latitude\"]\n",
    "        longtitude=h[\"longitude\"]"
   ]
  },
  {
   "cell_type": "code",
   "execution_count": 98,
   "id": "e7a8449d",
   "metadata": {},
   "outputs": [
    {
     "name": "stdout",
     "output_type": "stream",
     "text": [
      "34.0133699576545\n"
     ]
    }
   ],
   "source": [
    "print(latitude)"
   ]
  },
  {
   "cell_type": "code",
   "execution_count": 99,
   "id": "9f31c8a2",
   "metadata": {},
   "outputs": [
    {
     "name": "stdout",
     "output_type": "stream",
     "text": [
      "-4.97885\n"
     ]
    }
   ],
   "source": [
    "print(longitude)"
   ]
  },
  {
   "cell_type": "code",
   "execution_count": 100,
   "id": "1ce72002",
   "metadata": {},
   "outputs": [],
   "source": [
    "import folium\n",
    "\n",
    "# Coordonnées de départ\n",
    "start_location = [34.00942, -4.97885]\n",
    "\n",
    "# Coordonnées de l'hôtel (exemple)\n",
    "hotel_location = [latitude, longitude]\n",
    "\n",
    "# Créer la carte centrée sur les coordonnées de départ\n",
    "mymap = folium.Map(location=start_location, zoom_start=12)\n",
    "\n",
    "# Ajouter un marqueur pour l'hôtel\n",
    "folium.Marker(location=hotel_location, popup=\"Hotel Location\", icon=folium.Icon(color='blue')).add_to(mymap)\n",
    "\n",
    "# Tracer une ligne entre les deux points\n",
    "folium.PolyLine(locations=[start_location, hotel_location], color='red').add_to(mymap)\n",
    "\n",
    "# Enregistrer la carte au format HTML\n",
    "mymap.save('path_map.html')\n"
   ]
  },
  {
   "cell_type": "code",
   "execution_count": 94,
   "id": "84084429",
   "metadata": {},
   "outputs": [],
   "source": [
    "from py2neo import Graph\n",
    "\n",
    "# Connexion à la base de données Neo4j\n",
    "graph = Graph(\"neo4j+s://5f6b01b5.databases.neo4j.io\", auth=(\"neo4j\", \"QBWqYKup3VtvHpFgZVcuO91xqWIWqRU9x1YYo6QCI-o\"))\n",
    "\n",
    "# Supprimer tous les nœuds et les relations\n",
    "graph.delete_all()\n"
   ]
  },
  {
   "cell_type": "code",
   "execution_count": null,
   "id": "ff50a75d",
   "metadata": {},
   "outputs": [],
   "source": []
  }
 ],
 "metadata": {
  "kernelspec": {
   "display_name": "Python 3 (ipykernel)",
   "language": "python",
   "name": "python3"
  },
  "language_info": {
   "codemirror_mode": {
    "name": "ipython",
    "version": 3
   },
   "file_extension": ".py",
   "mimetype": "text/x-python",
   "name": "python",
   "nbconvert_exporter": "python",
   "pygments_lexer": "ipython3",
   "version": "3.12.4"
  }
 },
 "nbformat": 4,
 "nbformat_minor": 5
}
